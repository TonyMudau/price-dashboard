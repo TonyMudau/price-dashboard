{
 "cells": [
  {
   "cell_type": "code",
   "execution_count": 5,
   "id": "40fe3ba2",
   "metadata": {},
   "outputs": [
    {
     "name": "stdout",
     "output_type": "stream",
     "text": [
      "hi\n",
      "set\n",
      "about to login\n",
      "sent\n"
     ]
    },
    {
     "data": {
      "text/plain": [
       "(221, b'2.0.0 Bye')"
      ]
     },
     "execution_count": 5,
     "metadata": {},
     "output_type": "execute_result"
    }
   ],
   "source": [
    "\n",
    "# Import smtplib for the actual sending function\n",
    "import smtplib\n",
    "\n",
    "# Import the email modules we'll need\n",
    "from email.message import EmailMessage\n",
    "\n",
    "# Open the plain text file whose name is in textfile for reading.\n",
    "\n",
    "msg = EmailMessage()\n",
    "print(\"set\")\n",
    "msg.set_content(\"from python\")\n",
    "\n",
    "# me == the sender's email address\n",
    "# you == the recipient's email address\n",
    "msg['Subject'] = f'The contents of file'\n",
    "msg['From'] = 'pricedata@learningtool.co.za'\n",
    "msg['To'] = ['mudau7tony3@gmail.com', 'info@learningtool.co.za']\n",
    "# Send the message via our own SMTP server.\n",
    "s = smtplib.SMTP('mail.learningtool.co.za', 25)\n",
    "print('about to login')\n",
    "s.login('pricedata@learningtool.co.za', 'BEo3kno')\n",
    "s.send_message(msg)\n",
    "print('sent')\n",
    "s.quit()"
   ]
  },
  {
   "cell_type": "code",
   "execution_count": null,
   "id": "4e61f652",
   "metadata": {},
   "outputs": [],
   "source": [
    "def send_user_a_email():\n",
    "    msg = EmailMessage()\n",
    "    print(\"set\")\n",
    "    message = \"\"\"\n",
    "    We will notify you when the following product prices change ; ). %s\n",
    "    \"\"\" % (prods)\n",
    "    \n",
    "    \n",
    "    msg.set_content(f\"\")\n",
    "    # me == the sender's email address\n",
    "    # you == the recipient's email address\n",
    "    msg['Subject'] = 'Price Tracker Notification.'\n",
    "    msg['From'] = 'pricedata@learningtool.co.za'\n",
    "    msg['To'] = ['mudau7tony3@gmail.com', 'info@learningtool.co.za']\n",
    "    # Send the message via our own SMTP server.\n",
    "    s = smtplib.SMTP('mail.learningtool.co.za', 25)\n",
    "    print('about to login')\n",
    "    s.login('pricedata@learningtool.co.za', 'BEo3kno')\n",
    "    s.send_message(msg)\n",
    "    print('sent')\n",
    "    s.quit()"
   ]
  }
 ],
 "metadata": {
  "kernelspec": {
   "display_name": "Python 3 (ipykernel)",
   "language": "python",
   "name": "python3"
  },
  "language_info": {
   "codemirror_mode": {
    "name": "ipython",
    "version": 3
   },
   "file_extension": ".py",
   "mimetype": "text/x-python",
   "name": "python",
   "nbconvert_exporter": "python",
   "pygments_lexer": "ipython3",
   "version": "3.9.7"
  }
 },
 "nbformat": 4,
 "nbformat_minor": 5
}
