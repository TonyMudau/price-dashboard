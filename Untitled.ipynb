{
 "cells": [
  {
   "cell_type": "code",
   "execution_count": 5,
   "id": "40fe3ba2",
   "metadata": {},
   "outputs": [
    {
     "name": "stdout",
     "output_type": "stream",
     "text": [
      "hi\n",
      "set\n",
      "about to login\n",
      "sent\n"
     ]
    },
    {
     "data": {
      "text/plain": [
       "(221, b'2.0.0 Bye')"
      ]
     },
     "execution_count": 5,
     "metadata": {},
     "output_type": "execute_result"
    }
   ],
   "source": [
    "\n",
    "# Import smtplib for the actual sending function\n",
    "import smtplib\n",
    "\n",
    "# Import the email modules we'll need\n",
    "from email.message import EmailMessage\n",
    "\n",
    "# Open the plain text file whose name is in textfile for reading.\n",
    "\n",
    "msg = EmailMessage()\n",
    "print(\"set\")\n",
    "msg.set_content(\"from python\")\n",
    "\n",
    "# me == the sender's email address\n",
    "# you == the recipient's email address\n",
    "msg['Subject'] = f'The contents of file'\n",
    "msg['From'] = 'pricedata@learningtool.co.za'\n",
    "msg['To'] = ['mudau7tony3@gmail.com', 'info@learningtool.co.za']\n",
    "# Send the message via our own SMTP server.\n",
    "s = smtplib.SMTP('mail.learningtool.co.za', 25)\n",
    "print('about to login')\n",
    "s.login('pricedata@learningtool.co.za', 'BEo3kno')\n",
    "s.send_message(msg)\n",
    "print('sent')\n",
    "s.quit()"
   ]
  },
  {
   "cell_type": "code",
   "execution_count": 27,
   "id": "726ddfa6",
   "metadata": {},
   "outputs": [],
   "source": [
    "import os\n",
    "import smtplib\n",
    "from email.mime.text import MIMEText\n",
    "from email.mime.image import MIMEImage\n",
    "from email.mime.multipart import MIMEMultipart"
   ]
  },
  {
   "cell_type": "code",
   "execution_count": 44,
   "id": "4e61f652",
   "metadata": {},
   "outputs": [],
   "source": [
    "def send_user_a_email(prods, send_to_mail):\n",
    "    msg = EmailMessage()\n",
    "    print(\"set\")\n",
    "    message = \"\"\"We will notify you when the following product prices change 😎. %s\n",
    "    \n",
    "    Visit: https//:www.openpricengine.com. To gain access to the same API we use! \n",
    "\n",
    "    \"\"\" % (prods)\n",
    "\n",
    "    msg.set_content(message)\n",
    "    msg['Subject'] = 'Price Tracker Notification.'\n",
    "    msg['From'] = 'pricedata@learningtool.co.za'\n",
    "    msg['To'] = [f'{send_to_mail}']\n",
    "    # Send the message via our own SMTP server.\n",
    "    s = smtplib.SMTP('mail.learningtool.co.za', 25)\n",
    "    print('about to login')\n",
    "    s.login('pricedata@learningtool.co.za', 'BEo3kno')\n",
    "    \n",
    "    \n",
    "    \n",
    "    with open('test.jpeg', 'rb') as f:\n",
    "        img_data = f.read()\n",
    "    msg.add_attachment(img_data, maintype='image', subtype='jpeg', filename='test.jpeg')\n",
    "    s.send_message(msg)\n",
    "    print('sent')\n",
    "    s.quit()"
   ]
  },
  {
   "cell_type": "code",
   "execution_count": 45,
   "id": "0e93d957",
   "metadata": {},
   "outputs": [
    {
     "name": "stdout",
     "output_type": "stream",
     "text": [
      "set\n",
      "about to login\n",
      "sent\n"
     ]
    }
   ],
   "source": [
    "send_user_a_email(\"food, milk, eggs\", 'mudau7tony3@gmail.com')"
   ]
  },
  {
   "cell_type": "code",
   "execution_count": null,
   "id": "faec7710",
   "metadata": {},
   "outputs": [],
   "source": []
  },
  {
   "cell_type": "code",
   "execution_count": null,
   "id": "46191ab0",
   "metadata": {},
   "outputs": [],
   "source": []
  }
 ],
 "metadata": {
  "kernelspec": {
   "display_name": "Python 3 (ipykernel)",
   "language": "python",
   "name": "python3"
  },
  "language_info": {
   "codemirror_mode": {
    "name": "ipython",
    "version": 3
   },
   "file_extension": ".py",
   "mimetype": "text/x-python",
   "name": "python",
   "nbconvert_exporter": "python",
   "pygments_lexer": "ipython3",
   "version": "3.9.7"
  }
 },
 "nbformat": 4,
 "nbformat_minor": 5
}
